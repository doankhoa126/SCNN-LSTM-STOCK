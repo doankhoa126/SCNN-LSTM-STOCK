{
 "cells": [
  {
   "cell_type": "code",
   "execution_count": 1,
   "id": "382be9b2",
   "metadata": {},
   "outputs": [],
   "source": [
    "import pandas as pd\n",
    "import numpy as np\n",
    "import time\n",
    "import matplotlib.pyplot as plt\n",
    "from tabulate import tabulate\n",
    "from IPython.display import display, HTML\n",
    "import seaborn as sns\n",
    "from keras.models import Sequential\n",
    "from keras.layers import Dense,RepeatVector,Dropout\n",
    "from keras.layers import Flatten\n",
    "from keras.layers.convolutional import Conv1D\n",
    "from keras.layers.convolutional import MaxPooling1D\n",
    "from sklearn.metrics import mean_absolute_percentage_error\n",
    "from sklearn.metrics import mean_squared_error\n",
    "from sklearn.preprocessing import MinMaxScaler\n",
    "from sklearn.metrics import mean_absolute_error\n"
   ]
  },
  {
   "cell_type": "markdown",
   "id": "9aa23a27",
   "metadata": {},
   "source": [
    "<h2>CNN-LUCAS</h2>\n",
    "<h4>(CNN với số lớp Fully Connected layer là số Lucas)</h4>"
   ]
  },
  {
   "cell_type": "code",
   "execution_count": 2,
   "id": "08fbd207",
   "metadata": {},
   "outputs": [],
   "source": [
    "import h5py\n",
    "from keras.models import load_model\n",
    "\n",
    "\n",
    "model_CNN_Lucas = load_model('Daily_CNN_73.h5')\n",
    "\n",
    "\n",
    "with h5py.File('Daily_CNN_73_data.h5', 'r') as f:\n",
    "   \n",
    "    y_test_CNN_Lucas = f['y_test'][:]\n",
    "    X_test_CNN_Lucas = f['X_test'][:]   \n",
    "    time_CNN_Lucas = f['training_time'][()]\n"
   ]
  },
  {
   "cell_type": "code",
   "execution_count": 3,
   "id": "85847a20",
   "metadata": {},
   "outputs": [
    {
     "name": "stdout",
     "output_type": "stream",
     "text": [
      "Model: \"sequential\"\n",
      "_________________________________________________________________\n",
      " Layer (type)                Output Shape              Param #   \n",
      "=================================================================\n",
      " conv1d (Conv1D)             (None, 5, 128)            512       \n",
      "                                                                 \n",
      " conv1d_1 (Conv1D)           (None, 3, 128)            49280     \n",
      "                                                                 \n",
      " max_pooling1d (MaxPooling1D  (None, 1, 128)           0         \n",
      " )                                                               \n",
      "                                                                 \n",
      " flatten (Flatten)           (None, 128)               0         \n",
      "                                                                 \n",
      " dense (Dense)               (None, 100)               12900     \n",
      "                                                                 \n",
      " dense_1 (Dense)             (None, 1)                 101       \n",
      "                                                                 \n",
      " dense_2 (Dense)             (None, 100)               200       \n",
      "                                                                 \n",
      " dense_3 (Dense)             (None, 1)                 101       \n",
      "                                                                 \n",
      " dense_4 (Dense)             (None, 100)               200       \n",
      "                                                                 \n",
      " dense_5 (Dense)             (None, 1)                 101       \n",
      "                                                                 \n",
      " dense_6 (Dense)             (None, 100)               200       \n",
      "                                                                 \n",
      " dense_7 (Dense)             (None, 1)                 101       \n",
      "                                                                 \n",
      " dense_8 (Dense)             (None, 100)               200       \n",
      "                                                                 \n",
      " dense_9 (Dense)             (None, 1)                 101       \n",
      "                                                                 \n",
      " dense_10 (Dense)            (None, 100)               200       \n",
      "                                                                 \n",
      " dense_11 (Dense)            (None, 1)                 101       \n",
      "                                                                 \n",
      " dense_12 (Dense)            (None, 100)               200       \n",
      "                                                                 \n",
      " dense_13 (Dense)            (None, 1)                 101       \n",
      "                                                                 \n",
      "=================================================================\n",
      "Total params: 64,599\n",
      "Trainable params: 64,599\n",
      "Non-trainable params: 0\n",
      "_________________________________________________________________\n"
     ]
    }
   ],
   "source": [
    "model_CNN_Lucas.summary()"
   ]
  },
  {
   "cell_type": "code",
   "execution_count": 4,
   "id": "6d71f933",
   "metadata": {},
   "outputs": [
    {
     "name": "stdout",
     "output_type": "stream",
     "text": [
      "10/10 [==============================] - 0s 1ms/step\n",
      "MSE:  0.020253692\n",
      "RMSE:  0.14231546\n",
      "MAPE:  0.2359244\n",
      "MAE:  0.12422005\n",
      "Time:  1030.171626329422\n"
     ]
    }
   ],
   "source": [
    "y_pred_CNN_Lucas = model_CNN_Lucas.predict(X_test_CNN_Lucas)\n",
    "y_pred_CNN_Lucas = np.reshape(y_pred_CNN_Lucas, (-1, 1))\n",
    "mse_CNN_Lucas = mean_squared_error(y_test_CNN_Lucas, y_pred_CNN_Lucas)\n",
    "rmse_CNN_Lucas = np.sqrt(mse_CNN_Lucas)\n",
    "mape_CNN_Lucas = mean_absolute_percentage_error(y_test_CNN_Lucas, y_pred_CNN_Lucas)\n",
    "mae_CNN_Lucas = mean_absolute_error(y_test_CNN_Lucas, y_pred_CNN_Lucas)\n",
    "\n",
    "print('MSE: ', mse_CNN_Lucas)\n",
    "print('RMSE: ', rmse_CNN_Lucas)\n",
    "print('MAPE: ', mape_CNN_Lucas)\n",
    "print('MAE: ', mae_CNN_Lucas)\n",
    "print('Time: ', time_CNN_Lucas)"
   ]
  },
  {
   "cell_type": "markdown",
   "id": "a2a728f2",
   "metadata": {},
   "source": [
    "<h2>SCNN-LUCAS</h2>\n",
    "<h4>(Simple Exponential Smoothing kết hợp CNN với số lớp Fully Connected layer là số Lucas)</h4>"
   ]
  },
  {
   "cell_type": "code",
   "execution_count": 5,
   "id": "53c6ad37",
   "metadata": {},
   "outputs": [],
   "source": [
    "import h5py\n",
    "\n",
    "from keras.models import load_model\n",
    "\n",
    "model_SCNN_Lucas = load_model('Daily_SCNN_73.h5')\n",
    "\n",
    "\n",
    "with h5py.File(\"Daily_SCNN_73_data.h5\", \"r\") as file:\n",
    "\n",
    "    y_test_SCNN_Lucas = file[\"y_test\"][:]\n",
    "    X_test_SCNN_Lucas = file[\"X_test\"][:]\n",
    "    time_SCNN_Lucas = file[\"training_time\"][()]\n",
    "    alpha = file[\"alpha\"][()]\n",
    "    S = file[\"S\"][:]\n",
    "    dataScale = file[\"dataScale\"][:]"
   ]
  },
  {
   "cell_type": "code",
   "execution_count": 6,
   "id": "751cbaf9",
   "metadata": {},
   "outputs": [
    {
     "name": "stdout",
     "output_type": "stream",
     "text": [
      "Model: \"sequential\"\n",
      "_________________________________________________________________\n",
      " Layer (type)                Output Shape              Param #   \n",
      "=================================================================\n",
      " conv1d (Conv1D)             (None, 5, 128)            512       \n",
      "                                                                 \n",
      " conv1d_1 (Conv1D)           (None, 3, 128)            49280     \n",
      "                                                                 \n",
      " max_pooling1d (MaxPooling1D  (None, 1, 128)           0         \n",
      " )                                                               \n",
      "                                                                 \n",
      " flatten (Flatten)           (None, 128)               0         \n",
      "                                                                 \n",
      " dense (Dense)               (None, 100)               12900     \n",
      "                                                                 \n",
      " dropout (Dropout)           (None, 100)               0         \n",
      "                                                                 \n",
      " dense_1 (Dense)             (None, 1)                 101       \n",
      "                                                                 \n",
      " dense_2 (Dense)             (None, 100)               200       \n",
      "                                                                 \n",
      " dropout_1 (Dropout)         (None, 100)               0         \n",
      "                                                                 \n",
      " dense_3 (Dense)             (None, 1)                 101       \n",
      "                                                                 \n",
      " dense_4 (Dense)             (None, 100)               200       \n",
      "                                                                 \n",
      " dropout_2 (Dropout)         (None, 100)               0         \n",
      "                                                                 \n",
      " dense_5 (Dense)             (None, 1)                 101       \n",
      "                                                                 \n",
      " dense_6 (Dense)             (None, 100)               200       \n",
      "                                                                 \n",
      " dropout_3 (Dropout)         (None, 100)               0         \n",
      "                                                                 \n",
      " dense_7 (Dense)             (None, 1)                 101       \n",
      "                                                                 \n",
      " dense_8 (Dense)             (None, 100)               200       \n",
      "                                                                 \n",
      " dropout_4 (Dropout)         (None, 100)               0         \n",
      "                                                                 \n",
      " dense_9 (Dense)             (None, 1)                 101       \n",
      "                                                                 \n",
      " dense_10 (Dense)            (None, 100)               200       \n",
      "                                                                 \n",
      " dropout_5 (Dropout)         (None, 100)               0         \n",
      "                                                                 \n",
      " dense_11 (Dense)            (None, 1)                 101       \n",
      "                                                                 \n",
      " dense_12 (Dense)            (None, 100)               200       \n",
      "                                                                 \n",
      " dropout_6 (Dropout)         (None, 100)               0         \n",
      "                                                                 \n",
      " dense_13 (Dense)            (None, 1)                 101       \n",
      "                                                                 \n",
      "=================================================================\n",
      "Total params: 64,599\n",
      "Trainable params: 64,599\n",
      "Non-trainable params: 0\n",
      "_________________________________________________________________\n"
     ]
    }
   ],
   "source": [
    "model_SCNN_Lucas.summary()"
   ]
  },
  {
   "cell_type": "code",
   "execution_count": 7,
   "id": "486ed69e",
   "metadata": {},
   "outputs": [
    {
     "name": "stderr",
     "output_type": "stream",
     "text": [
      "D:\\Download\\Anaconda\\lib\\site-packages\\seaborn\\distributions.py:2619: FutureWarning: `distplot` is a deprecated function and will be removed in a future version. Please adapt your code to use either `displot` (a figure-level function with similar flexibility) or `histplot` (an axes-level function for histograms).\n",
      "  warnings.warn(msg, FutureWarning)\n",
      "D:\\Download\\Anaconda\\lib\\site-packages\\seaborn\\distributions.py:2619: FutureWarning: `distplot` is a deprecated function and will be removed in a future version. Please adapt your code to use either `displot` (a figure-level function with similar flexibility) or `histplot` (an axes-level function for histograms).\n",
      "  warnings.warn(msg, FutureWarning)\n"
     ]
    },
    {
     "data": {
      "image/png": "[encoded data removed]",
      "text/plain": [
       "<Figure size 640x480 with 2 Axes>"
      ]
     },
     "metadata": {},
     "output_type": "display_data"
    }
   ],
   "source": [
    "import matplotlib.pyplot as plt\n",
    "import seaborn as sns\n",
    "\n",
    "fig, axs = plt.subplots(1, 2)\n",
    "\n",
    "sns.distplot(dataScale, ax=axs[0], color='y')\n",
    "axs[0].set_title(\"Original Data\")\n",
    "\n",
    "sns.distplot(S, ax=axs[1])\n",
    "axs[1].set_title(\"Smooth Data\" + \", alpha=\" + \"{:.2f}\".format(alpha % 1))\n",
    "\n",
    "\n",
    "fig.subplots_adjust(wspace=0.5) \n",
    "\n",
    "plt.show()\n"
   ]
  },
  {
   "cell_type": "code",
   "execution_count": 8,
   "id": "cf9304d5",
   "metadata": {},
   "outputs": [
    {
     "name": "stdout",
     "output_type": "stream",
     "text": [
      "10/10 [==============================] - 0s 1ms/step\n",
      "MSE:  0.005822917935904204\n",
      "RMSE:  0.07630804633788107\n",
      "MAPE:  0.18739287318444678\n",
      "MAE:  0.05840507515911263\n",
      "Time:  777.2143380641937\n"
     ]
    }
   ],
   "source": [
    "y_pred_SCNN_Lucas = model_SCNN_Lucas.predict(X_test_SCNN_Lucas)\n",
    "y_pred_SCNN_Lucas = np.reshape(y_pred_SCNN_Lucas, (-1, 1))\n",
    "mse_SCNN_Lucas = mean_squared_error(y_test_SCNN_Lucas, y_pred_SCNN_Lucas)\n",
    "rmse_SCNN_Lucas = np.sqrt(mse_SCNN_Lucas)\n",
    "mape_SCNN_Lucas = mean_absolute_percentage_error(y_test_SCNN_Lucas, y_pred_SCNN_Lucas)\n",
    "mae_SCNN_Lucas = mean_absolute_error(y_test_SCNN_Lucas, y_pred_SCNN_Lucas)\n",
    "\n",
    "print('MSE: ', mse_SCNN_Lucas)\n",
    "print('RMSE: ', rmse_SCNN_Lucas)\n",
    "print('MAPE: ', mape_SCNN_Lucas)\n",
    "print('MAE: ', mae_SCNN_Lucas)\n",
    "print('Time: ', time_SCNN_Lucas)"
   ]
  },
  {
   "cell_type": "markdown",
   "id": "903b7aa1",
   "metadata": {},
   "source": [
    "<h2>LSTM</h2>"
   ]
  },
  {
   "cell_type": "code",
   "execution_count": 9,
   "id": "10ff8761",
   "metadata": {},
   "outputs": [],
   "source": [
    "import h5py\n",
    "from keras.models import load_model\n",
    "from sklearn.metrics import mean_absolute_percentage_error\n",
    "from sklearn.metrics import mean_squared_error\n",
    "\n",
    "# Load model từ file H5\n",
    "model_LSTM = load_model('Daily_LSTM_73.h5')\n",
    "\n",
    "# Đọc file H5\n",
    "with h5py.File('Daily_LSTM_73_data.h5', 'r') as f:\n",
    "    # Lấy giá trị y_test\n",
    "    y_test_LSTM = f['y_test'][:]\n",
    "    \n",
    "    # Lấy giá trị X_test\n",
    "    X_test_LSTM = f['X_test'][:]\n",
    "    \n",
    "    # Lấy giá trị training_time\n",
    "    time_LSTM = f['training_time'][()]\n"
   ]
  },
  {
   "cell_type": "code",
   "execution_count": 10,
   "id": "cff7edf4",
   "metadata": {},
   "outputs": [
    {
     "name": "stdout",
     "output_type": "stream",
     "text": [
      "Model: \"sequential\"\n",
      "_________________________________________________________________\n",
      " Layer (type)                Output Shape              Param #   \n",
      "=================================================================\n",
      " lstm (LSTM)                 (None, 7, 50)             10400     \n",
      "                                                                 \n",
      " lstm_1 (LSTM)               (None, 50)                20200     \n",
      "                                                                 \n",
      " dense (Dense)               (None, 1)                 51        \n",
      "                                                                 \n",
      "=================================================================\n",
      "Total params: 30,651\n",
      "Trainable params: 30,651\n",
      "Non-trainable params: 0\n",
      "_________________________________________________________________\n"
     ]
    }
   ],
   "source": [
    "model_LSTM.summary()"
   ]
  },
  {
   "cell_type": "code",
   "execution_count": 11,
   "id": "e7d579ad",
   "metadata": {},
   "outputs": [
    {
     "name": "stdout",
     "output_type": "stream",
     "text": [
      "10/10 [==============================] - 1s 2ms/step\n",
      "MSE:  0.026907498131512362\n",
      "RMSE:  0.16403505153323897\n",
      "MAPE:  0.2548558941419045\n",
      "MAE:  0.1366178130076641\n",
      "Time:  2105.8107414245605\n"
     ]
    }
   ],
   "source": [
    "y_pred_LSTM = model_LSTM.predict(X_test_LSTM)\n",
    "y_pred_LSTM = np.reshape(y_pred_LSTM, (-1, 1))\n",
    "mse_LSTM = mean_squared_error(y_test_LSTM, y_pred_LSTM)\n",
    "rmse_LSTM = np.sqrt(mse_LSTM)\n",
    "mape_LSTM = mean_absolute_percentage_error(y_test_LSTM, y_pred_LSTM)\n",
    "mae_LSTM = mean_absolute_error(y_test_LSTM, y_pred_LSTM)\n",
    "\n",
    "print('MSE: ', mse_LSTM)\n",
    "print('RMSE: ', rmse_LSTM)\n",
    "print('MAPE: ', mape_LSTM)\n",
    "print('MAE: ', mae_LSTM)\n",
    "print('Time: ', time_LSTM)"
   ]
  },
  {
   "cell_type": "markdown",
   "id": "4681b178",
   "metadata": {},
   "source": [
    "<h2>Tổng kết </h2>"
   ]
  },
  {
   "cell_type": "code",
   "execution_count": 12,
   "id": "a7a7eaee",
   "metadata": {},
   "outputs": [],
   "source": [
    "from tabulate import tabulate\n",
    "\n",
    "table = [[\"MoHinh\", \"MSE\", \"RMSE\", \"MAPE\",\"MAE\", \"TIME\"]]\n",
    "name = [\"CNN-Lucas\", \"S-CNN-Lucas\", \"LSTM\"]\n",
    "\n",
    "VALUE_MSE = [mse_CNN_Lucas, mse_SCNN_Lucas, mse_LSTM]\n",
    "VALUE_RMSE = [rmse_CNN_Lucas, rmse_SCNN_Lucas, rmse_LSTM]\n",
    "VALUE_MAPE = [mape_CNN_Lucas, mape_SCNN_Lucas, mape_LSTM]\n",
    "VALUE_MAE = [mae_CNN_Lucas, mae_SCNN_Lucas, mae_LSTM]\n",
    "VALUE_TIME = [time_CNN_Lucas, time_SCNN_Lucas, time_LSTM]\n",
    "\n",
    "\n",
    "for mohinh, mse, rmse, mape,mae, time in zip(name, VALUE_MSE, VALUE_RMSE, VALUE_MAPE,VALUE_MAE, VALUE_TIME):\n",
    "    table.append([mohinh, round(mse, 5), round(rmse, 5), round(mape, 5),round(mae, 5), round(time, 3)])"
   ]
  },
  {
   "cell_type": "code",
   "execution_count": 13,
   "id": "fcfa43b6",
   "metadata": {},
   "outputs": [
    {
     "data": {
      "text/html": [
       "<h3 style='text-align: center; color: green;'>Bảng tổng kết MSE, RMSE, MAPE , TIME của S-CNN, S-CNN-LUCAS, LSTM</h3>"
      ],
      "text/plain": [
       "<IPython.core.display.HTML object>"
      ]
     },
     "metadata": {},
     "output_type": "display_data"
    },
    {
     "name": "stdout",
     "output_type": "stream",
     "text": [
      "╒═════════════╤═════════╤═════════╤═════════╤═════════╤══════════╕\n",
      "│ MoHinh      │     MSE │    RMSE │    MAPE │     MAE │     TIME │\n",
      "╞═════════════╪═════════╪═════════╪═════════╪═════════╪══════════╡\n",
      "│ CNN-Lucas   │ 0.02025 │ 0.14232 │ 0.23592 │ 0.12422 │ 1030.17  │\n",
      "├─────────────┼─────────┼─────────┼─────────┼─────────┼──────────┤\n",
      "│ S-CNN-Lucas │ 0.00582 │ 0.07631 │ 0.18739 │ 0.05841 │  777.214 │\n",
      "├─────────────┼─────────┼─────────┼─────────┼─────────┼──────────┤\n",
      "│ LSTM        │ 0.02691 │ 0.16404 │ 0.25486 │ 0.13662 │ 2105.81  │\n",
      "╘═════════════╧═════════╧═════════╧═════════╧═════════╧══════════╛\n"
     ]
    }
   ],
   "source": [
    "title_table = \"<h3 style='text-align: center; color: green;'>Bảng tổng kết MSE, RMSE, MAPE , TIME của S-CNN, S-CNN-LUCAS, LSTM</h3>\"\n",
    "\n",
    "display(HTML(title_table))\n",
    "\n",
    "print(tabulate(table, headers=\"firstrow\", tablefmt=\"fancy_grid\"))"
   ]
  },
  {
   "cell_type": "code",
   "execution_count": null,
   "id": "f85ccf53",
   "metadata": {},
   "outputs": [],
   "source": []
  }
 ],
 "metadata": {
  "kernelspec": {
   "display_name": "Python 3 (ipykernel)",
   "language": "python",
   "name": "python3"
  },
  "language_info": {
   "codemirror_mode": {
    "name": "ipython",
    "version": 3
   },
   "file_extension": ".py",
   "mimetype": "text/x-python",
   "name": "python",
   "nbconvert_exporter": "python",
   "pygments_lexer": "ipython3",
   "version": "3.9.13"
  }
 },
 "nbformat": 4,
 "nbformat_minor": 5
}
