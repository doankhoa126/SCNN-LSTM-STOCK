{
 "cells": [
  {
   "cell_type": "code",
   "execution_count": null,
   "id": "4323377c",
   "metadata": {},
   "outputs": [],
   "source": [
    "from keras.models import Sequential\n",
    "from keras.layers import Dense,RepeatVector,Dropout\n",
    "from keras.layers import Flatten\n",
    "#from keras.layers import TimeDistributed\n",
    "from keras.layers.convolutional import Conv1D\n",
    "from keras.layers.convolutional import MaxPooling1D\n",
    "import pandas as pd\n",
    "import numpy as np\n",
    "import time\n",
    "from sklearn.metrics import mean_absolute_percentage_error\n",
    "from sklearn.metrics import mean_squared_error"
   ]
  },
  {
   "cell_type": "code",
   "execution_count": null,
   "id": "6e8a4744",
   "metadata": {},
   "outputs": [],
   "source": [
    "from sklearn.preprocessing import MinMaxScaler\n"
   ]
  },
  {
   "cell_type": "code",
   "execution_count": null,
   "id": "e13e6508",
   "metadata": {},
   "outputs": [],
   "source": [
    "data = pd.read_csv('PEP.csv')\n"
   ]
  },
  {
   "cell_type": "code",
   "execution_count": null,
   "id": "a6f9e3dc",
   "metadata": {},
   "outputs": [],
   "source": [
    "data"
   ]
  },
  {
   "cell_type": "code",
   "execution_count": 416,
   "id": "3fdbd517",
   "metadata": {},
   "outputs": [],
   "source": [
    "data = data.filter(['Page.Loads'])\n"
   ]
  },
  {
   "cell_type": "code",
   "execution_count": 417,
   "id": "cc110b41",
   "metadata": {},
   "outputs": [
    {
     "data": {
      "text/html": [
       "<div>\n",
       "<style scoped>\n",
       "    .dataframe tbody tr th:only-of-type {\n",
       "        vertical-align: middle;\n",
       "    }\n",
       "\n",
       "    .dataframe tbody tr th {\n",
       "        vertical-align: top;\n",
       "    }\n",
       "\n",
       "    .dataframe thead th {\n",
       "        text-align: right;\n",
       "    }\n",
       "</style>\n",
       "<table border=\"1\" class=\"dataframe\">\n",
       "  <thead>\n",
       "    <tr style=\"text-align: right;\">\n",
       "      <th></th>\n",
       "      <th>Page.Loads</th>\n",
       "    </tr>\n",
       "  </thead>\n",
       "  <tbody>\n",
       "    <tr>\n",
       "      <th>1167</th>\n",
       "      <td>2658</td>\n",
       "    </tr>\n",
       "    <tr>\n",
       "      <th>1168</th>\n",
       "      <td>2391</td>\n",
       "    </tr>\n",
       "    <tr>\n",
       "      <th>1169</th>\n",
       "      <td>3202</td>\n",
       "    </tr>\n",
       "    <tr>\n",
       "      <th>1170</th>\n",
       "      <td>4349</td>\n",
       "    </tr>\n",
       "    <tr>\n",
       "      <th>1171</th>\n",
       "      <td>4886</td>\n",
       "    </tr>\n",
       "    <tr>\n",
       "      <th>...</th>\n",
       "      <td>...</td>\n",
       "    </tr>\n",
       "    <tr>\n",
       "      <th>2162</th>\n",
       "      <td>2221</td>\n",
       "    </tr>\n",
       "    <tr>\n",
       "      <th>2163</th>\n",
       "      <td>2724</td>\n",
       "    </tr>\n",
       "    <tr>\n",
       "      <th>2164</th>\n",
       "      <td>3456</td>\n",
       "    </tr>\n",
       "    <tr>\n",
       "      <th>2165</th>\n",
       "      <td>3581</td>\n",
       "    </tr>\n",
       "    <tr>\n",
       "      <th>2166</th>\n",
       "      <td>2064</td>\n",
       "    </tr>\n",
       "  </tbody>\n",
       "</table>\n",
       "<p>1000 rows × 1 columns</p>\n",
       "</div>"
      ],
      "text/plain": [
       "      Page.Loads\n",
       "1167        2658\n",
       "1168        2391\n",
       "1169        3202\n",
       "1170        4349\n",
       "1171        4886\n",
       "...          ...\n",
       "2162        2221\n",
       "2163        2724\n",
       "2164        3456\n",
       "2165        3581\n",
       "2166        2064\n",
       "\n",
       "[1000 rows x 1 columns]"
      ]
     },
     "execution_count": 417,
     "metadata": {},
     "output_type": "execute_result"
    }
   ],
   "source": [
    "# Lấy 100 dòng cuối cùng của df\n",
    "data = data.tail(1000)\n",
    "data"
   ]
  },
  {
   "cell_type": "code",
   "execution_count": 418,
   "id": "75cbafd4",
   "metadata": {},
   "outputs": [],
   "source": [
    "#Tiền xử lý\n",
    "data.fillna(0, inplace=True)\n",
    "\n",
    "# Normalize data\n",
    "scaler = MinMaxScaler()\n",
    "dataScale = scaler.fit_transform(data.values.reshape(-1,1))"
   ]
  },
  {
   "cell_type": "code",
   "execution_count": 419,
   "id": "48b088d3",
   "metadata": {},
   "outputs": [],
   "source": [
    "#Chia dữ liệu thành train test\n",
    "data = pd.DataFrame(dataScale)\n",
    "\n",
    "#dataScale = data\n",
    "train_percent = 0.8\n",
    "train_size = int(len(data) * train_percent)\n",
    "train_data = data.iloc[:train_size]\n",
    "test_data = data.iloc[train_size:]"
   ]
  },
  {
   "cell_type": "code",
   "execution_count": 420,
   "id": "279ae4e4",
   "metadata": {},
   "outputs": [],
   "source": [
    "\n",
    "data = train_data\n",
    "\n",
    "#dataScale = data\n",
    "train_percent = 0.8\n",
    "train_size = int(len(data) * train_percent)\n",
    "train_data = data.iloc[:train_size]\n",
    "test_data = data.iloc[train_size:]\n"
   ]
  },
  {
   "cell_type": "code",
   "execution_count": 421,
   "id": "95f7ac04",
   "metadata": {},
   "outputs": [],
   "source": [
    "#Chuẩn bị dữ liệu để đưa vào mô hình\n",
    "def prepare_data(data, size_window,size_predict,stepWindow):\n",
    "    X, y = [], []\n",
    "    startWindow = 0\n",
    "    for i in range(len(data) - size_window - 1):\n",
    "        if (len(data[(startWindow + size_window):(startWindow + size_window + size_predict) , 0]) != size_predict):\n",
    "            break\n",
    "        X.append(data[startWindow:(startWindow + size_window), :])\n",
    "        y.append(data[(startWindow + size_window):(startWindow + size_window + size_predict) , 0])\n",
    "          \n",
    "       \n",
    "        startWindow += stepWindow\n",
    "    return np.array(X), np.array(y)\n",
    "\n",
    "\n",
    "size_window = 7\n",
    "size_predict = 1\n",
    "stepWindow = 1\n",
    "X_train, y_train = prepare_data(train_data.values, size_window, size_predict, stepWindow)\n",
    "X_test, y_test = prepare_data(test_data.values, size_window, size_predict, stepWindow)"
   ]
  },
  {
   "cell_type": "code",
   "execution_count": 422,
   "id": "f7773dee",
   "metadata": {},
   "outputs": [],
   "source": [
    "start_time = time.time()\n",
    "\n",
    "# Tạo một list chứa các số Lucas để sử dụng làm số lượng hidden layer\n",
    "lucas_list = [3, 4, 7, 11, 18, 29, 47, 76]\n",
    "\n",
    "# Chọn số lượng hidden layer sử dụng theo số Lucas\n",
    "num_hidden_layer = lucas_list[2] # ví dụ chọn số 11"
   ]
  },
  {
   "cell_type": "code",
   "execution_count": 423,
   "id": "43f95419",
   "metadata": {},
   "outputs": [],
   "source": [
    "\n",
    "# Tạo mô hình CNN\n",
    "model = Sequential()\n",
    "model.add(Conv1D(filters=128, kernel_size=2, activation='relu', input_shape=(size_window, 1)))\n",
    "model.add(Conv1D(filters=128, kernel_size=2, activation='relu'))\n",
    "model.add(Conv1D(filters=128, kernel_size=2, activation='relu'))\n",
    "\n",
    "model.add(MaxPooling1D(pool_size=2))\n",
    "\n",
    "model.add(Flatten())\n",
    "for i in range(num_hidden_layer): #Thêm num_hidden_layer lớp ẩn với 64 đơn vị mỗi lớp\n",
    "    model.add(Dense(units=100, activation='relu')) #Tham số chỉ định số lượng tế bào thần kinh trong lớp\n",
    "    model.add(Dropout(0.2))\n",
    "    model.add(Dense(units=1))\n",
    "\n",
    "# Compile mô hình với Adam optimizer và Mean Squared Error loss\n",
    "model.compile(loss='mse', optimizer='adam')\n"
   ]
  },
  {
   "cell_type": "code",
   "execution_count": 424,
   "id": "f48d3a9e",
   "metadata": {},
   "outputs": [
    {
     "name": "stdout",
     "output_type": "stream",
     "text": [
      "Epoch 1/10\n",
      "40/40 [==============================] - 2s 3ms/step - loss: 0.1367\n",
      "Epoch 2/10\n",
      "40/40 [==============================] - 0s 3ms/step - loss: 0.0507\n",
      "Epoch 3/10\n",
      "40/40 [==============================] - 0s 3ms/step - loss: 0.0354\n",
      "Epoch 4/10\n",
      "40/40 [==============================] - 0s 3ms/step - loss: 0.0231\n",
      "Epoch 5/10\n",
      "40/40 [==============================] - 0s 3ms/step - loss: 0.0200\n",
      "Epoch 6/10\n",
      "40/40 [==============================] - 0s 3ms/step - loss: 0.0162\n",
      "Epoch 7/10\n",
      "40/40 [==============================] - 0s 3ms/step - loss: 0.0150\n",
      "Epoch 8/10\n",
      "40/40 [==============================] - 0s 3ms/step - loss: 0.0135\n",
      "Epoch 9/10\n",
      "40/40 [==============================] - 0s 3ms/step - loss: 0.0120\n",
      "Epoch 10/10\n",
      "40/40 [==============================] - 0s 3ms/step - loss: 0.0107\n"
     ]
    }
   ],
   "source": [
    "history = model.fit(X_train, y_train, epochs=10, batch_size=16)"
   ]
  },
  {
   "cell_type": "code",
   "execution_count": 425,
   "id": "a90c40b0",
   "metadata": {},
   "outputs": [
    {
     "name": "stdout",
     "output_type": "stream",
     "text": [
      "5/5 [==============================] - 0s 2ms/step\n",
      "Training time: 3.665034294128418 seconds\n"
     ]
    }
   ],
   "source": [
    "y_pred = model.predict(X_test)\n",
    "end_time = time.time()\n",
    "training_time = end_time - start_time\n",
    "print(f\"Training time: {training_time} seconds\")"
   ]
  },
  {
   "cell_type": "code",
   "execution_count": 426,
   "id": "8f1c43dd",
   "metadata": {},
   "outputs": [
    {
     "name": "stdout",
     "output_type": "stream",
     "text": [
      "5/5 [==============================] - 0s 2ms/step\n",
      "MSE:  0.007979400786903767\n",
      "RMSE:  0.08932749177550978\n",
      "MAPE:  0.3478123874673896\n"
     ]
    }
   ],
   "source": [
    "y_pred = model.predict(X_test)\n",
    "y_pred = np.reshape(y_pred, (-1, 1))\n",
    "mse = mean_squared_error(y_test, y_pred)\n",
    "rmse = np.sqrt(mse)\n",
    "mape = mean_absolute_percentage_error(y_test, y_pred)\n",
    "\n",
    "print('MSE: ', mse)\n",
    "print('RMSE: ', rmse)\n",
    "print('MAPE: ', mape)"
   ]
  },
  {
   "cell_type": "code",
   "execution_count": 427,
   "id": "50bea59a",
   "metadata": {},
   "outputs": [
    {
     "data": {
      "text/plain": [
       "800"
      ]
     },
     "execution_count": 427,
     "metadata": {},
     "output_type": "execute_result"
    }
   ],
   "source": [
    "len(data)"
   ]
  },
  {
   "cell_type": "code",
   "execution_count": null,
   "id": "5f0a5b34",
   "metadata": {},
   "outputs": [],
   "source": []
  }
 ],
 "metadata": {
  "kernelspec": {
   "display_name": "Python 3 (ipykernel)",
   "language": "python",
   "name": "python3"
  },
  "language_info": {
   "codemirror_mode": {
    "name": "ipython",
    "version": 3
   },
   "file_extension": ".py",
   "mimetype": "text/x-python",
   "name": "python",
   "nbconvert_exporter": "python",
   "pygments_lexer": "ipython3",
   "version": "3.9.13"
  }
 },
 "nbformat": 4,
 "nbformat_minor": 5
}
